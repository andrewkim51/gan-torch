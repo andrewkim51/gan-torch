{
  "nbformat": 4,
  "nbformat_minor": 0,
  "metadata": {
    "colab": {
      "provenance": []
    },
    "kernelspec": {
      "name": "python3",
      "display_name": "Python 3"
    },
    "language_info": {
      "name": "python"
    }
  },
  "cells": [
    {
      "cell_type": "code",
      "source": [
        "from google.colab import drive\n",
        "drive.mount('/content/drive')"
      ],
      "metadata": {
        "colab": {
          "base_uri": "https://localhost:8080/"
        },
        "id": "2RnGzvNfwbd3",
        "outputId": "033e79a6-e39c-4886-e8be-727d015458be"
      },
      "execution_count": null,
      "outputs": [
        {
          "output_type": "stream",
          "name": "stdout",
          "text": [
            "Mounted at /content/drive\n"
          ]
        }
      ]
    },
    {
      "cell_type": "code",
      "execution_count": null,
      "metadata": {
        "id": "6Z6MSUtVuh1g"
      },
      "outputs": [],
      "source": [
        "import torch\n",
        "import torch.nn as nn\n",
        "from torch.utils.data import Dataset\n",
        "\n",
        "import pandas, numpy, random\n",
        "import matplotlib.pyplot as plt"
      ]
    },
    {
      "cell_type": "code",
      "source": [
        "def generate_random(size):\n",
        "  random_data = torch.rand(size)\n",
        "  return random_data"
      ],
      "metadata": {
        "id": "q8ebQw_Oyt9V"
      },
      "execution_count": null,
      "outputs": []
    },
    {
      "cell_type": "code",
      "source": [
        "class MnistDataset(Dataset):\n",
        "\n",
        "    def __init__(self, csv_file):\n",
        "        self.data_df = pandas.read_csv(csv_file, header=None)\n",
        "        pass\n",
        "\n",
        "    def __len__(self):\n",
        "        return len(self.data_df)\n",
        "\n",
        "    def __getitem__(self, index):\n",
        "        # image target (label)\n",
        "        label = self.data_df.iloc[index,0]\n",
        "        target = torch.zeros((10))\n",
        "        target[label] = 1.0\n",
        "\n",
        "        # image data, normalised from 0-255 to 0-1\n",
        "        image_values = torch.FloatTensor(self.data_df.iloc[index,1:].values) / 255.0\n",
        "\n",
        "        # return label, image data tensor and target tensor\n",
        "        return label, image_values, target\n",
        "    def plot_image(self, index):\n",
        "      arr = self.data_df.iloc[index,1:].values.reshape(28,28)\n",
        "      plt.title(\"label = \" + str(self.data_df.iloc[index,0]))\n",
        "      plt.imshow(arr, interpolation='none', cmap='Blues')\n",
        "      pass\n",
        "\n",
        "    pass"
      ],
      "metadata": {
        "id": "pfu5GTj0yKN0"
      },
      "execution_count": null,
      "outputs": []
    },
    {
      "cell_type": "code",
      "source": [
        "mnist_dataset = MnistDataset('drive/MyDrive/mnist_data/mnist_train.csv')"
      ],
      "metadata": {
        "id": "7UUH_0BIunA-"
      },
      "execution_count": null,
      "outputs": []
    },
    {
      "cell_type": "code",
      "source": [
        "class Discriminator(nn.Module):\n",
        "\n",
        "  def __init__(self):\n",
        "    super().__init__()\n",
        "\n",
        "    self.model = nn.Sequential(\n",
        "        nn.Linear(784, 200),\n",
        "        nn.Sigmoid(),\n",
        "        nn.Linear(200, 1),\n",
        "        nn.Sigmoid()\n",
        "    )\n",
        "\n",
        "    self.loss_function = nn.MSELoss()\n",
        "\n",
        "    self.optimiser = torch.optim.SGD(self.parameters(), lr=0.01)\n",
        "\n",
        "    self.counter = 0\n",
        "    self.progress = []\n",
        "\n",
        "  def forward(self, inputs):\n",
        "    return self.model(inputs)\n",
        "\n",
        "  def train(self, inputs, targets):\n",
        "\n",
        "    outputs = self.forward(inputs)\n",
        "\n",
        "    loss = self.loss_function(outputs, targets)\n",
        "\n",
        "    self.counter += 1\n",
        "    if self.counter % 10 == 0:\n",
        "      self.progress.append(loss.item())\n",
        "      pass\n",
        "    if self.counter % 10000 == 0:\n",
        "      print(\"counter = \", self.counter)\n",
        "      pass\n",
        "\n",
        "    self.optimiser.zero_grad()\n",
        "    loss.backward()\n",
        "    self.optimiser.step()\n",
        "\n",
        "    pass\n",
        "\n",
        "  def plot_progress(self):\n",
        "    df = pandas.DataFrame(self.progress, columns=['loss'])\n",
        "    df.plot(ylim=(0, 1.0), figsize=(16,8), alpha=0.1, marker='.', grid=True, yticks=(0, 0.25, 0.5))\n",
        "    pass"
      ],
      "metadata": {
        "id": "0sg_nIDCyJnA"
      },
      "execution_count": null,
      "outputs": []
    },
    {
      "cell_type": "code",
      "source": [
        "D = Discriminator()\n",
        "\n",
        "for label, image_data_tensor, target_tensor in mnist_dataset:\n",
        "    # real data\n",
        "    D.train(image_data_tensor, torch.FloatTensor([1.0]))\n",
        "    # fake data\n",
        "    D.train(generate_random(784), torch.FloatTensor([0.0]))\n",
        "    pass"
      ],
      "metadata": {
        "colab": {
          "base_uri": "https://localhost:8080/"
        },
        "id": "0-xrD5rpyoEi",
        "outputId": "e6d73f4a-8842-4492-8b0d-1dd1da333483"
      },
      "execution_count": null,
      "outputs": [
        {
          "output_type": "stream",
          "name": "stdout",
          "text": [
            "counter =  10000\n",
            "counter =  20000\n",
            "counter =  30000\n",
            "counter =  40000\n",
            "counter =  50000\n",
            "counter =  60000\n",
            "counter =  70000\n",
            "counter =  80000\n",
            "counter =  90000\n",
            "counter =  100000\n",
            "counter =  110000\n",
            "counter =  120000\n"
          ]
        }
      ]
    },
    {
      "cell_type": "code",
      "source": [
        "D.plot_progress()"
      ],
      "metadata": {
        "colab": {
          "base_uri": "https://localhost:8080/",
          "height": 330
        },
        "id": "sT7d1DtFzMD8",
        "outputId": "dc5cbc52-14c7-494d-dbc8-e9690828a40c"
      },
      "execution_count": null,
      "outputs": [
        {
          "output_type": "display_data",
          "data": {
            "text/plain": [
              "<Figure size 1152x576 with 1 Axes>"
            ],
            "image/png": "[encoded data removed]"
          },
          "metadata": {
            "needs_background": "light"
          }
        }
      ]
    },
    {
      "cell_type": "code",
      "source": [
        "for i in range(4):\n",
        "  image_data_tensor = mnist_dataset[random.randint(0,60000)][1]\n",
        "  print(D.forward(image_data_tensor).item())\n",
        "  pass\n",
        "for i in range(4):\n",
        "  print(D.forward(generate_random(784)).item())\n",
        "  pass"
      ],
      "metadata": {
        "colab": {
          "base_uri": "https://localhost:8080/"
        },
        "id": "3UrfuD8fzvJv",
        "outputId": "cbda3251-d1ab-4d18-e8df-8303e05af713"
      },
      "execution_count": null,
      "outputs": [
        {
          "output_type": "stream",
          "name": "stdout",
          "text": [
            "0.9889935851097107\n",
            "0.9854986667633057\n",
            "0.9956551790237427\n",
            "0.9956710338592529\n",
            "0.006587362382560968\n",
            "0.004519751761108637\n",
            "0.004058242775499821\n",
            "0.006574216764420271\n"
          ]
        }
      ]
    }
  ]
}